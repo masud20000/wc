{
  "nbformat": 4,
  "nbformat_minor": 0,
  "metadata": {
    "colab": {
      "provenance": []
    },
    "kernelspec": {
      "name": "python3",
      "display_name": "Python 3"
    },
    "language_info": {
      "name": "python"
    }
  },
  "cells": [
    {
      "cell_type": "markdown",
      "source": [
        "Consider an artificial neural network (ANN) with three layers given below. Write a\n",
        "MATLAB or Python program to learn this network using Back Propagation Network."
      ],
      "metadata": {
        "id": "T5lVi_vLCe13"
      }
    },
    {
      "cell_type": "code",
      "execution_count": 1,
      "metadata": {
        "id": "JmF_htZA_tGO"
      },
      "outputs": [],
      "source": [
        "import torch\n",
        "import torch.nn as nn\n",
        "import torch.optim as optim"
      ]
    },
    {
      "cell_type": "code",
      "source": [
        "class SimpleANN(nn.Module):\n",
        "    def __init__(self):\n",
        "        super(SimpleANN, self).__init__()\n",
        "        # Input to Hidden layer (2 inputs to 2 hidden nodes)\n",
        "        self.hidden = nn.Linear(2, 2)  # 2 input neurons, 2 hidden neurons\n",
        "        # Hidden to Output layer (2 hidden nodes to 2 output nodes)\n",
        "        self.output = nn.Linear(2, 2)  # 2 hidden neurons, 2 output neurons\n",
        "        # Sigmoid activation function\n",
        "        self.sigmoid = nn.Sigmoid()\n",
        "\n",
        "    def forward(self, x):\n",
        "        # Forward pass through the network\n",
        "        h = self.sigmoid(self.hidden(x))  # Hidden layer activation\n",
        "        y = self.sigmoid(self.output(h))  # Output layer activation\n",
        "        return y"
      ],
      "metadata": {
        "id": "IKsFmtGiAvtb"
      },
      "execution_count": 2,
      "outputs": []
    },
    {
      "cell_type": "code",
      "source": [
        "model = SimpleANN()\n",
        "\n",
        "# Manually set the weights and biases based on the diagram\n",
        "with torch.no_grad():\n",
        "    # Hidden layer weights (w1-w4) and bias (b1)\n",
        "    model.hidden.weight = torch.nn.Parameter(torch.tensor([[0.15, 0.20], [0.25, 0.30]]))\n",
        "    model.hidden.bias = torch.nn.Parameter(torch.tensor([0.35, 0.35]))\n",
        "\n",
        "    # Output layer weights (w5-w8) and bias (b2)\n",
        "    model.output.weight = torch.nn.Parameter(torch.tensor([[0.40, 0.45], [0.50, 0.55]]))\n",
        "    model.output.bias = torch.nn.Parameter(torch.tensor([0.60, 0.60]))"
      ],
      "metadata": {
        "id": "p627Qmq1AvTw"
      },
      "execution_count": 3,
      "outputs": []
    },
    {
      "cell_type": "code",
      "source": [
        "# Input (x1, x2) and target values (T1, T2)\n",
        "inputs = torch.tensor([[0.05, 0.10]])  # Single input pair\n",
        "targets = torch.tensor([[0.01, 0.99]])  # Target values for y1 and y2\n",
        "\n",
        "# Loss function (Mean Squared Error)\n",
        "criterion = nn.MSELoss()\n",
        "\n",
        "# Optimizer (Stochastic Gradient Descent)\n",
        "optimizer = optim.SGD(model.parameters(), lr=0.5)\n",
        "\n",
        "# Training epochs\n",
        "epochs = 15000"
      ],
      "metadata": {
        "id": "mFyerphPBYzG"
      },
      "execution_count": 4,
      "outputs": []
    },
    {
      "cell_type": "code",
      "source": [
        "print(\"Starting training...\\n\")\n",
        "\n",
        "for epoch in range(epochs):\n",
        "    # Forward pass\n",
        "    output = model(inputs)\n",
        "\n",
        "    # Compute loss\n",
        "    loss = criterion(output, targets)\n",
        "\n",
        "    # Backpropagation\n",
        "    optimizer.zero_grad()  # Clear gradients\n",
        "    loss.backward()        # Compute gradients\n",
        "    optimizer.step()       # Update weights\n",
        "\n",
        "    # Print progress every 1000 epochs\n",
        "    if epoch % 1000 == 0:\n",
        "        print(f\"Epoch {epoch:5d}, Loss: {loss.item():.6f}\")"
      ],
      "metadata": {
        "colab": {
          "base_uri": "https://localhost:8080/"
        },
        "id": "nyRiUKJVBn_d",
        "outputId": "2529c728-a57e-4cf7-c76d-143efba33e7f"
      },
      "execution_count": 5,
      "outputs": [
        {
          "output_type": "stream",
          "name": "stdout",
          "text": [
            "Starting training...\n",
            "\n",
            "Epoch     0, Loss: 0.298371\n",
            "Epoch  1000, Loss: 0.000271\n",
            "Epoch  2000, Loss: 0.000090\n",
            "Epoch  3000, Loss: 0.000044\n",
            "Epoch  4000, Loss: 0.000025\n",
            "Epoch  5000, Loss: 0.000015\n",
            "Epoch  6000, Loss: 0.000010\n",
            "Epoch  7000, Loss: 0.000007\n",
            "Epoch  8000, Loss: 0.000005\n",
            "Epoch  9000, Loss: 0.000003\n",
            "Epoch 10000, Loss: 0.000002\n",
            "Epoch 11000, Loss: 0.000002\n",
            "Epoch 12000, Loss: 0.000001\n",
            "Epoch 13000, Loss: 0.000001\n",
            "Epoch 14000, Loss: 0.000001\n"
          ]
        }
      ]
    },
    {
      "cell_type": "code",
      "source": [
        "print(\"\\nFinal weights and biases:\")\n",
        "for name, param in model.named_parameters():\n",
        "    print(f\"{name}:\")\n",
        "    print(param.data)\n",
        "    print()\n",
        "\n",
        "# Final output after training\n",
        "final_output = model(inputs)\n",
        "print(f\"\\nFinal network output:\")\n",
        "print(f\"y1: {final_output[0][0]:.4f} (target: 0.01)\")\n",
        "print(f\"y2: {final_output[0][1]:.4f} (target: 0.99)\")"
      ],
      "metadata": {
        "colab": {
          "base_uri": "https://localhost:8080/"
        },
        "id": "AR20bxi_BnbC",
        "outputId": "33c855a3-c1dd-4681-91e8-d57b3360df31"
      },
      "execution_count": 6,
      "outputs": [
        {
          "output_type": "stream",
          "name": "stdout",
          "text": [
            "\n",
            "Final weights and biases:\n",
            "hidden.weight:\n",
            "tensor([[0.1833, 0.2667],\n",
            "        [0.2826, 0.3652]])\n",
            "\n",
            "hidden.bias:\n",
            "tensor([1.0170, 1.0025])\n",
            "\n",
            "output.weight:\n",
            "tensor([[-1.4728, -1.4261],\n",
            "        [ 1.5441,  1.5950]])\n",
            "\n",
            "output.bias:\n",
            "tensor([-2.3714,  2.1961])\n",
            "\n",
            "\n",
            "Final network output:\n",
            "y1: 0.0108 (target: 0.01)\n",
            "y2: 0.9893 (target: 0.99)\n"
          ]
        }
      ]
    }
  ]
}